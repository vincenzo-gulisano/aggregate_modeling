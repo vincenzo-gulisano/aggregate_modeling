{
 "cells": [
  {
   "cell_type": "markdown",
   "metadata": {},
   "source": [
    "# Main notebook for the simulator"
   ]
  },
  {
   "cell_type": "markdown",
   "metadata": {},
   "source": [
    "Python related commands:\n",
    " - `conda create --name aggregate_modeling python=3.12 -y`\n",
    " - `conda activate aggregate_modeling`\n",
    " - `install ipykernel`"
   ]
  },
  {
   "cell_type": "code",
   "execution_count": 108,
   "metadata": {},
   "outputs": [],
   "source": [
    "# Imports\n",
    "import csv\n",
    "from enum import Enum\n",
    "import sys\n",
    "import random\n"
   ]
  },
  {
   "cell_type": "code",
   "execution_count": 109,
   "metadata": {},
   "outputs": [],
   "source": [
    "# Model Stream Tuple\n",
    "class MST:\n",
    "    def __init__(self, id, omega, tau, w, k):\n",
    "        self.id = id # The unique ID\n",
    "        self.omega = omega # The wallclock time\n",
    "        self.tau = tau # The event time\n",
    "        self.w = w # Boolean specifying whether this is a watermark or a regular tuple\n",
    "        self.k = k # The associated key\n",
    "\n",
    "    def to_list(self):\n",
    "        \"\"\"Convert the object to a list for CSV writing.\"\"\"\n",
    "        return [self.id, self.omega, self.tau, self.w, self.k]\n",
    "    \n",
    "class WinAction (Enum): # Window Action \n",
    "    CREATE = 1\n",
    "    UPDATE = 2\n",
    "    OUTPUT = 3\n",
    "    DELETE = 4\n",
    "\n",
    "# Model Execution Event\n",
    "class MEE:\n",
    "    def __init__(self, id, omega, tau, winAction, k):\n",
    "        self.id = id # The unique ID\n",
    "        self.omega = omega # The wallclock time\n",
    "        self.tau = tau # The event time\n",
    "        self.winAction = winAction # Action \n",
    "        self.k = k # The associated key\n",
    "\n",
    "    def to_list(self):\n",
    "        \"\"\"Convert the object to a list for CSV writing.\"\"\"\n",
    "        return [self.id, self.omega, self.tau, self.winAction, self.k]"
   ]
  },
  {
   "cell_type": "markdown",
   "metadata": {},
   "source": [
    "# The following are utility functions"
   ]
  },
  {
   "cell_type": "code",
   "execution_count": 110,
   "metadata": {},
   "outputs": [],
   "source": [
    "def get_sliding_window_starts(tau, WA, WS):\n",
    "    \"\"\"\n",
    "    Returns a list of all starting times of sliding windows that contain tau.\n",
    "    \n",
    "    :param tau: The event time\n",
    "    :param WA: The window advance (step size)\n",
    "    :param WS: The window size\n",
    "    :return: A list of start times of windows containing tau\n",
    "    \"\"\"\n",
    "    start_times = []\n",
    "    latest_start = tau  # Latest possible window start containing tau\n",
    "    \n",
    "    while latest_start >= tau - WS + 1:\n",
    "        if latest_start % WA == 0:\n",
    "            start_times.append(latest_start)\n",
    "        latest_start -= 1\n",
    "    \n",
    "    return sorted(start_times)"
   ]
  },
  {
   "cell_type": "markdown",
   "metadata": {},
   "source": [
    "The following part is to process a real input stream and create a stream of Model Input Stream Tuples (MST objects) that are written to a CSV"
   ]
  },
  {
   "cell_type": "markdown",
   "metadata": {},
   "source": [
    "## Notes\n",
    "- Right now focusing on linear road, using only an excerpt of tuples, and considering only position reports (tuples with type=0). The file has been created with\n",
    "  - `head -n 100000 input.txt | grep -e \"^0,\" > ../../../aggregate_modeling/data/input_stream_lr.csv`"
   ]
  },
  {
   "cell_type": "code",
   "execution_count": 111,
   "metadata": {},
   "outputs": [],
   "source": [
    "input_file = '../data/input_stream_lr.csv' \n",
    "mst_input_stream = '../data/MST_input_stream_lr.csv'\n",
    "mst_output_stream = '../data/MST_output_stream_lr.csv'\n",
    "mee_events = '../data/MEE_events_lr.csv'\n",
    "adjusted_mee_events_file = '../data/adjusted_MEE_events_lr.csv'\n",
    "input_event_mapping =  '../data/input_event_lr.csv'\n",
    "input_output_mapping =  '../data/input_output_lr.csv'\n",
    "WA = 200\n",
    "WS = 600\n",
    "\n",
    "extract_time = lambda line: int(line.split(\",\")[1])*1000  # Extracts second value as integer time, that's the format for LR tuples, multiplies by 1000 to get ms\n",
    "extract_key = lambda line: line.split(\",\")[2].strip()  # Extracts third value as key, the vehicle id"
   ]
  },
  {
   "cell_type": "code",
   "execution_count": 112,
   "metadata": {},
   "outputs": [],
   "source": [
    "def process_stream(input_file, mst_input_stream, extract_time, extract_key):\n",
    "    counter = 0\n",
    "    last_tau = None\n",
    "    non_decreasing = True\n",
    "\n",
    "    with open(input_file, 'r') as infile, open(mst_input_stream, 'w', newline='') as outfile:\n",
    "        writer = csv.writer(outfile)\n",
    "        writer.writerow([\"id\", \"omega\", \"tau\", \"w\", \"k\"])  # CSV header\n",
    "\n",
    "        for line in infile:\n",
    "            tau = extract_time(line)  # Extract event time\n",
    "            k = extract_key(line)  # Extract key\n",
    "\n",
    "            # Check if tau decreased\n",
    "            if last_tau is not None and tau < last_tau:\n",
    "                non_decreasing = False\n",
    "\n",
    "            # If tau increased, insert a watermark tuple before the new tau\n",
    "            if last_tau is not None and tau > last_tau:\n",
    "                watermark = MST(counter, last_tau, last_tau, True, None)\n",
    "                writer.writerow(watermark.to_list())\n",
    "                counter += 1\n",
    "\n",
    "            # Create regular tuple\n",
    "            mst = MST(counter, tau, tau, False, k)\n",
    "            writer.writerow(mst.to_list())\n",
    "            counter += 1\n",
    "\n",
    "            last_tau = tau\n",
    "\n",
    "        # At the end, a final watermark that flushes everything\n",
    "        watermark = MST(counter, last_tau, sys.maxsize, True, None)\n",
    "        writer.writerow(watermark.to_list())\n",
    "        \n",
    "    return non_decreasing"
   ]
  },
  {
   "cell_type": "code",
   "execution_count": 113,
   "metadata": {},
   "outputs": [
    {
     "name": "stdout",
     "output_type": "stream",
     "text": [
      "Tuples had non-decreasing event times, so mst_input_stream_lr.csv can be used as is\n"
     ]
    }
   ],
   "source": [
    "non_decreasing = process_stream(input_file, mst_input_stream, extract_time, extract_key)\n",
    "\n",
    "if non_decreasing:\n",
    "    print('Tuples had non-decreasing event times, so mst_input_stream_lr.csv can be used as is')\n",
    "else:\n",
    "    print('Tuples had decreasing event times, so mst_input_stream_lr.csv should be adjusted to have consistent watermarks')\n"
   ]
  },
  {
   "cell_type": "code",
   "execution_count": 114,
   "metadata": {},
   "outputs": [],
   "source": [
    "\n",
    "def process_mst_stream(mst_input_stream, mst_output_stream, mee_events, input_event_mapping, input_output_mapping, WA, WS):\n",
    "    wins = set()\n",
    "    pendingMEEs = []\n",
    "    event_counter = 0\n",
    "    output_counter = 0\n",
    "    \n",
    "    with open(mst_input_stream, 'r') as infile, open(mst_output_stream, 'w', newline='') as out_mst, \\\n",
    "            open(mee_events, 'w', newline='') as out_mee, open(input_event_mapping, 'w', newline='') as out_event_map, \\\n",
    "            open(input_output_mapping, 'w', newline='') as out_output_map:\n",
    "        \n",
    "        mst_reader = csv.reader(infile)\n",
    "        next(mst_reader)  # Skip header\n",
    "        mst_writer = csv.writer(out_mst)\n",
    "        mee_writer = csv.writer(out_mee)\n",
    "        event_map_writer = csv.writer(out_event_map)\n",
    "        output_map_writer = csv.writer(out_output_map)\n",
    "        \n",
    "        mst_writer.writerow([\"i\", \"omega\", \"tau\", \"w\", \"k\"])\n",
    "        mee_writer.writerow([\"i\", \"omega\", \"tau\", \"winAction\", \"k\"])\n",
    "        event_map_writer.writerow([\"input_id\", \"event_id\"])\n",
    "        output_map_writer.writerow([\"input_id\", \"output_id\"])\n",
    "        \n",
    "        for row in mst_reader:\n",
    "            i, omega, tau, w, k = int(row[0]), int(row[1]), int(row[2]), row[3] == 'True', row[4] if row[4] != 'None' else None\n",
    "        \n",
    "            if not w:  # Regular tuple\n",
    "                for start_time in get_sliding_window_starts(tau, WA, WS):\n",
    "                    if (start_time, k) not in wins:\n",
    "                        wins.add((start_time, k))\n",
    "                        mee_writer.writerow([event_counter, omega, start_time, WinAction.CREATE.name, k])\n",
    "                        event_map_writer.writerow([i, event_counter])\n",
    "                        pendingMEEs.append([None, None, start_time + WS - 1, WinAction.OUTPUT.name, k])\n",
    "                        event_counter += 1\n",
    "                    \n",
    "                    mee_writer.writerow([event_counter, omega, start_time, WinAction.UPDATE.name, k])\n",
    "                    event_map_writer.writerow([i, event_counter])\n",
    "                    event_counter += 1\n",
    "            else:  # Watermark\n",
    "                while pendingMEEs and pendingMEEs[0][2] <= tau:\n",
    "                    x = pendingMEEs.pop(0)\n",
    "                    x[0] = event_counter\n",
    "                    x[1] = omega\n",
    "                    mee_writer.writerow(x)\n",
    "                    event_map_writer.writerow([i, event_counter])\n",
    "                    \n",
    "                    mee_writer.writerow([event_counter + 1, omega, x[2], WinAction.DELETE.name, x[4]])\n",
    "                    event_map_writer.writerow([i, event_counter + 1])\n",
    "                    \n",
    "                    mst_writer.writerow([output_counter, omega, x[2], False, x[4]])\n",
    "                    output_map_writer.writerow([i, output_counter])\n",
    "                    \n",
    "                    output_counter += 1\n",
    "                    event_counter += 2\n",
    "                \n",
    "                mst_writer.writerow([output_counter, omega, tau, True, None])\n",
    "                output_map_writer.writerow([i, output_counter])\n",
    "                output_counter += 1\n",
    "\n",
    "process_mst_stream(mst_input_stream, mst_output_stream, mee_events, input_event_mapping, input_output_mapping, WA, WS)"
   ]
  },
  {
   "cell_type": "markdown",
   "metadata": {},
   "source": [
    "# Now we adjust the times based on the actual duration of the various execution \n",
    "\n",
    "- For now, duration are just randoms, will be more accurate later on"
   ]
  },
  {
   "cell_type": "code",
   "execution_count": 115,
   "metadata": {},
   "outputs": [],
   "source": [
    "CREATE_duration = lambda: random.uniform(0.001, 0.1)\n",
    "UPDATE_duration = lambda: random.uniform(0.001, 0.1)\n",
    "OUTPUT_duration = lambda: random.uniform(0.001, 0.1)\n",
    "DELETE_duration = lambda: random.uniform(0.001, 0.1)"
   ]
  },
  {
   "cell_type": "code",
   "execution_count": 117,
   "metadata": {},
   "outputs": [],
   "source": [
    "def update_mee_execution_times(mee_events_file,adjusted_mee_events_file):\n",
    "    \n",
    "    accumulated_execution_time = 0.0\n",
    "    \n",
    "    with open(mee_events_file, 'r') as infile, open(adjusted_mee_events_file, 'w', newline='') as outfile:\n",
    "        reader = csv.reader(infile)\n",
    "        writer = csv.writer(outfile)\n",
    "        \n",
    "        header = next(reader)\n",
    "        writer.writerow(header)  # Write header back\n",
    "        \n",
    "        for row in reader:\n",
    "            id, omega, tau, winAction, k = int(row[0]), float(row[1]), int(row[2]), row[3], row[4] if row[4] != 'None' else None\n",
    "            \n",
    "            accumulated_execution_time = max(omega, accumulated_execution_time)\n",
    "\n",
    "            writer.writerow([id, int(accumulated_execution_time), tau, winAction, k])\n",
    "\n",
    "            if winAction == \"CREATE\":\n",
    "                accumulated_execution_time += CREATE_duration()\n",
    "            elif winAction == \"UPDATE\":\n",
    "                accumulated_execution_time += UPDATE_duration()\n",
    "            elif winAction == \"OUTPUT\":\n",
    "                accumulated_execution_time += OUTPUT_duration()\n",
    "            elif winAction == \"DELETE\":\n",
    "                accumulated_execution_time += DELETE_duration()\n",
    "            \n",
    "            \n",
    "update_mee_execution_times(mee_events,adjusted_mee_events_file)"
   ]
  },
  {
   "cell_type": "markdown",
   "metadata": {},
   "source": []
  }
 ],
 "metadata": {
  "kernelspec": {
   "display_name": "aggregate_modeling",
   "language": "python",
   "name": "python3"
  },
  "language_info": {
   "codemirror_mode": {
    "name": "ipython",
    "version": 3
   },
   "file_extension": ".py",
   "mimetype": "text/x-python",
   "name": "python",
   "nbconvert_exporter": "python",
   "pygments_lexer": "ipython3",
   "version": "3.12.9"
  }
 },
 "nbformat": 4,
 "nbformat_minor": 2
}
